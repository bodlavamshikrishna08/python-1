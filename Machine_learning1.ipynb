{
 "cells": [
  {
   "cell_type": "code",
   "execution_count": null,
   "metadata": {},
   "outputs": [],
   "source": [
    "cost function / loss function\n",
    "\n",
    "objective function\n",
    "\n",
    "optimisation - gradient descent / gradient ascent\n",
    "\n",
    "perfomance metrics\n",
    "\n",
    "Bias Variance tradeoff"
   ]
  },
  {
   "cell_type": "code",
   "execution_count": null,
   "metadata": {},
   "outputs": [],
   "source": [
    "Simple linear regression\n",
    "\n",
    "1 Independent variable\n",
    "\n",
    "best fit - error should be minimum"
   ]
  },
  {
   "cell_type": "code",
   "execution_count": null,
   "metadata": {},
   "outputs": [],
   "source": [
    "Model Equation \n",
    "\n",
    "Cost function / loss function - difference between actual and predicted value.\n",
    "\n",
    "optimisation - convex / concave optimisations\n",
    "\n",
    "objective function - mimimise / maximise the cost function\n",
    "\n",
    "for minimising the objective function - we use optimisation technique called gradient descent.\n"
   ]
  },
  {
   "cell_type": "code",
   "execution_count": null,
   "metadata": {},
   "outputs": [],
   "source": [
    "stoppage criteria \n",
    "\n",
    "gradient = 0(when the slope becomes near zero, then we can stop the gradient iteration to get the exact learning rate.)\n",
    "\n",
    "new b = current b"
   ]
  },
  {
   "cell_type": "code",
   "execution_count": null,
   "metadata": {},
   "outputs": [],
   "source": [
    " find wieghts such that cost function is minimum.\n",
    "\n",
    "    Gradient descent - to find the gloabal minima and then use optimisation techniques such as conave / convex optimisation techniques to find the objective function such that where we use to min/max the objective function.\n"
   ]
  },
  {
   "cell_type": "markdown",
   "metadata": {},
   "source": [
    "# Linear regressioin"
   ]
  },
  {
   "cell_type": "code",
   "execution_count": null,
   "metadata": {},
   "outputs": [],
   "source": [
    "#Linear Regression assumptions\n",
    "\n",
    "1. Linear functional form\n",
    "2. Fixed independent variables\n",
    "3. Independent observations\n",
    "4. Normality of the residuals or errors\n",
    "5. Equality of variance of the errors(Homoscedasticity of residuals)\n",
    "6. No Multicolliearity\n",
    "7. No autocorrelation of errors\n",
    "8. No outlier distortion"
   ]
  },
  {
   "cell_type": "code",
   "execution_count": null,
   "metadata": {},
   "outputs": [],
   "source": []
  }
 ],
 "metadata": {
  "kernelspec": {
   "display_name": "Python 3",
   "language": "python",
   "name": "python3"
  },
  "language_info": {
   "codemirror_mode": {
    "name": "ipython",
    "version": 3
   },
   "file_extension": ".py",
   "mimetype": "text/x-python",
   "name": "python",
   "nbconvert_exporter": "python",
   "pygments_lexer": "ipython3",
   "version": "3.6.4"
  }
 },
 "nbformat": 4,
 "nbformat_minor": 2
}
